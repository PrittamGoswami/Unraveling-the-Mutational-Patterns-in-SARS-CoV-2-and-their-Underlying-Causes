{
 "cells": [
  {
   "cell_type": "markdown",
   "metadata": {},
   "source": [
    "The sequence.csv file was downloaded from NCBI and it contains information regarding all the complete SARS-CoV-2 genomes downloaded from NCBI.\n",
    "We access it and remove those genomes that does not have a proper collection date."
   ]
  },
  {
   "cell_type": "code",
   "execution_count": null,
   "metadata": {},
   "outputs": [],
   "source": [
    "import pandas as pd\n",
    "\n",
    "# Read the CSV file\n",
    "all_genomes_metadata_df = pd.read_csv('sequences.csv')\n",
    "print(\"Initial number of genomes:\",len(all_genomes_metadata_df))\n",
    "\n",
    "#Filter out data points that lacks proper collection dates\n",
    "all_genomes_metadata_df = all_genomes_metadata_df[(all_genomes_metadata_df['Collection_Date'].notna()) & \n",
    "        (all_genomes_metadata_df['Collection_Date'].str.len() >=7)]\n",
    "\n",
    "print(\"Number of genomes after filtering:\",len(all_genomes_metadata_df))"
   ]
  },
  {
   "cell_type": "markdown",
   "metadata": {},
   "source": [
    "We now sort the dataframe based on the collection dates of the genomes and remove the referece genome from the sampling population as we are going to add it later and use it as the outgroup for the tree construction"
   ]
  },
  {
   "cell_type": "code",
   "execution_count": null,
   "metadata": {},
   "outputs": [],
   "source": [
    "# Sort the DataFrame by Collection Date\n",
    "all_genomes_metadata_df = all_genomes_metadata_df.sort_values('Collection_Date')\n",
    "\n",
    "# Drop the row where 'Accession' is 'NC_045512.2'\n",
    "all_genomes_metadata_df = all_genomes_metadata_df[all_genomes_metadata_df['Accession'] != 'NC_045512.2']\n"
   ]
  },
  {
   "cell_type": "markdown",
   "metadata": {},
   "source": [
    "Next, we divide the timezone from the start of the pandemic into intervals of 6 months and then we assign these time period intervals to our records"
   ]
  },
  {
   "cell_type": "code",
   "execution_count": null,
   "metadata": {},
   "outputs": [],
   "source": [
    "import pandas as pd\n",
    "\n",
    "#Function to divide the timezome from the start of the pandemic till present into timeframes of 6 months interval and then assign this information to each datapoint\n",
    "def assign_6month_timeframe(collection_date):\n",
    "    global has_executed\n",
    "    global timeframes\n",
    "    #To initialize the timeframes list only once\n",
    "    if not has_executed:\n",
    "        start_date = pd.Timestamp('2019-12-01')\n",
    "        end_date = pd.Timestamp(\"2024-05-26\")\n",
    "        # Initialize a list to store the timeframes\n",
    "        timeframes = []\n",
    "\n",
    "        # Start from the start_date and increment by 6 months until reaching the end_date\n",
    "        current_date = start_date\n",
    "        while current_date <= end_date:\n",
    "            next_date = current_date + pd.DateOffset(months=6)\n",
    "            timeframes.append([current_date, next_date+pd.DateOffset(days=-1)])\n",
    "            current_date = next_date\n",
    "\n",
    "        # Adjust the end date of the last interval if it exceeds the current date\n",
    "        if timeframes[-1][-1] > end_date:\n",
    "            timeframes[-1][-1] = end_date\n",
    "        has_executed = True\n",
    "    \n",
    "    collection_date=pd.Timestamp(collection_date)\n",
    "    #Assign the time frame\n",
    "    for interval in timeframes:\n",
    "        if(interval[0]<=collection_date <=interval[1]):\n",
    "            return f\"{interval[0].date()}--{interval[1].date()}\"\n",
    "    \n",
    "\n",
    "has_executed = False\n",
    "\n",
    "#Assign time period to the records\n",
    "all_genomes_metadata_df[\"6_Month_Period\"] = all_genomes_metadata_df[\"Collection_Date\"].apply(assign_6month_timeframe)\n"
   ]
  },
  {
   "cell_type": "markdown",
   "metadata": {},
   "source": [
    "We now visualize the number of genomes that were sequenced in each of these timeframes"
   ]
  },
  {
   "cell_type": "code",
   "execution_count": null,
   "metadata": {},
   "outputs": [],
   "source": [
    "genome_counts_per_timeframe = all_genomes_metadata_df.groupby('6_Month_Period').size()\n",
    "print(genome_counts_per_timeframe)\n",
    "print(\"Total Genomes:\", genome_counts_per_timeframe.sum())"
   ]
  },
  {
   "cell_type": "markdown",
   "metadata": {},
   "source": [
    "As these distribution are inequal accros the different time frames. Hence, to ensure proper representation and capture the mutation dynamics of the virus accross each of these timeframes we sampled timewise-ranked equidistant 2000 genome sequences for each of these timeperiods."
   ]
  },
  {
   "cell_type": "code",
   "execution_count": null,
   "metadata": {},
   "outputs": [],
   "source": [
    "import pandas as pd\n",
    "import numpy as np\n",
    "\n",
    "# Function to Generate a DataFrame of n equidistant genomes for each 6-Month-Period\n",
    "def equidistant_genomes(df, n):\n",
    "    timewise_equidistant_genomes_df = pd.DataFrame(columns=df.columns)\n",
    "    #We access the genome sets for each time period\n",
    "    for timeframe,genome_set in df.groupby('6_Month_Period'):\n",
    "        #We sort them based on their collection dates\n",
    "        genome_set = genome_set.sort_values(by='Collection_Date')\n",
    "        #We select n equidistant genomes bases on the sorted collection dates\n",
    "        indices = np.linspace(0, len(genome_set) - 1, n).astype(int)\n",
    "        equidistant_dates = genome_set.iloc[indices]\n",
    "        timewise_equidistant_genomes_df = pd.concat([timewise_equidistant_genomes_df, equidistant_dates], ignore_index=True)\n",
    "        \n",
    "    return timewise_equidistant_genomes_df\n",
    "\n",
    "sampled_genomes_df = equidistant_genomes(all_genomes_metadata_df, n=2000)\n",
    "\n",
    "genome_counts_per_timeframe = sampled_genomes_df.groupby('6_Month_Period').size()\n",
    "print(\"Total Genomes sampled:\", genome_counts_per_timeframe.sum())\n",
    "genome_counts_per_timeframe"
   ]
  },
  {
   "cell_type": "markdown",
   "metadata": {},
   "source": [
    "We now access the \"sequences.fasta\" file which contains the genome sequences of all the genomes in the initial population. We then create a new multifasta file  which contains the genome sequences of the genomes that we sampled in the previous step. We also add the reference genome of the Wuhan-hu-1 strain to this file as it would be used later in the tree construction process. "
   ]
  },
  {
   "cell_type": "code",
   "execution_count": null,
   "metadata": {},
   "outputs": [],
   "source": [
    "#We take the accessions of these samples\n",
    "accessions = sampled_genomes_df['Accession'].tolist()\n",
    "\n",
    "#We set the referemce genome as the first in the list\n",
    "reference_id=\"NC_045512.2\"\n",
    "accessions = [reference_id] + accessions\n",
    "\n",
    "from Bio import SeqIO\n",
    "#Function to create the new multifasta file containing the sampled genome sequences\n",
    "def filter_fasta(input_file, output_file, sequence_ids):\n",
    "    # Open input FASTA file\n",
    "    with open(input_file, \"r\") as input_handle:\n",
    "        # Open output FASTA file\n",
    "        with open(output_file, \"w\") as output_handle:\n",
    "            # Iterate over each sequence in the input FASTA file\n",
    "            for record in SeqIO.parse(input_handle, \"fasta\"):\n",
    "                # Check if the sequence ID is in the provided list\n",
    "                if record.id in sequence_ids:\n",
    "                    # Write the sequence to the output FASTA file\n",
    "                    SeqIO.write(record, output_handle, \"fasta\")\n",
    "\n",
    "input_file = \"sequences.fasta\"\n",
    "output_file = f\"SARS-CoV-2_{len(accessions)-1}+1.fasta\"\n",
    "\n",
    "filter_fasta(input_file, output_file, accessions)"
   ]
  },
  {
   "cell_type": "markdown",
   "metadata": {},
   "source": [
    "Finally, we create and save the metadata file containing information about these sampled genomes"
   ]
  },
  {
   "cell_type": "code",
   "execution_count": null,
   "metadata": {},
   "outputs": [],
   "source": [
    "#dataframe containing information regarding the sampled genomes\n",
    "sampled_genome_metadata_df = all_genomes_metadata_df[all_genomes_metadata_df['Accession'].isin(accessions)]\n",
    "\n",
    "# Save this DataFrame as a CSV file\n",
    "sampled_genome_metadata_df.to_csv(f\"SARS-CoV-2_{len(accessions)-1}+1.csv\", index=False)\n"
   ]
  }
 ],
 "metadata": {
  "kernelspec": {
   "display_name": "base",
   "language": "python",
   "name": "python3"
  },
  "language_info": {
   "codemirror_mode": {
    "name": "ipython",
    "version": 3
   },
   "file_extension": ".py",
   "mimetype": "text/x-python",
   "name": "python",
   "nbconvert_exporter": "python",
   "pygments_lexer": "ipython3",
   "version": "3.11.7"
  }
 },
 "nbformat": 4,
 "nbformat_minor": 2
}
