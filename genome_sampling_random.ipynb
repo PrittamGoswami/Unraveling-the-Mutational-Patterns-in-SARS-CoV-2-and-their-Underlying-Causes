{
 "cells": [
  {
   "cell_type": "markdown",
   "metadata": {},
   "source": [
    "The sequence.csv file was downloaded from NCBI and it contains information regarding all the complete SARS-CoV-2 genomes downloaded from NCBI.\n",
    "We access it and remove those genomes that does not have a proper collection date."
   ]
  },
  {
   "cell_type": "code",
   "execution_count": 1,
   "metadata": {},
   "outputs": [],
   "source": [
    "import pandas as pd\n",
    "from Bio import SeqIO\n",
    "import os"
   ]
  },
  {
   "cell_type": "code",
   "execution_count": 2,
   "metadata": {},
   "outputs": [
    {
     "name": "stderr",
     "output_type": "stream",
     "text": [
      "/tmp/ipykernel_193210/540330663.py:2: DtypeWarning: Columns (2) have mixed types. Specify dtype option on import or set low_memory=False.\n",
      "  all_genomes_metadata_df = pd.read_csv('../../../Future_VOC_prediction/SARS-COV-2_Genomic_data/SARS-CoV-2_1063493_metadata.csv')\n"
     ]
    },
    {
     "name": "stdout",
     "output_type": "stream",
     "text": [
      "Initial number of genomes: 1063493\n",
      "Number of genomes after filtering: 1059141\n"
     ]
    }
   ],
   "source": [
    "\n",
    "# Read the CSV file contatining information about all the genomes\n",
    "all_genomes_metadata_df = pd.read_csv('../../../Future_VOC_prediction/SARS-COV-2_Genomic_data/SARS-CoV-2_1063493_metadata.csv')\n",
    "print(\"Initial number of genomes:\",len(all_genomes_metadata_df))\n",
    "\n",
    "#Filter out data points that lacks proper collection dates\n",
    "all_genomes_metadata_df = all_genomes_metadata_df[(all_genomes_metadata_df['Collection_Date'].notna()) & \n",
    "        (all_genomes_metadata_df['Collection_Date'].str.len() >=7)]\n",
    "\n",
    "print(\"Number of genomes after filtering:\",len(all_genomes_metadata_df))"
   ]
  },
  {
   "cell_type": "markdown",
   "metadata": {},
   "source": [
    "We now sort the dataframe based on the collection dates of the genomes and remove the referece genome from the sampling population as we are going to add it later and use it as the outgroup for the tree construction"
   ]
  },
  {
   "cell_type": "code",
   "execution_count": 3,
   "metadata": {},
   "outputs": [],
   "source": [
    "# Sort the DataFrame by their Collection Date\n",
    "all_genomes_metadata_df = all_genomes_metadata_df.sort_values('Collection_Date')\n",
    "\n",
    "# Drop the row where 'Accession' is 'NC_045512.2' which is the reference genome\n",
    "all_genomes_metadata_df = all_genomes_metadata_df[all_genomes_metadata_df['Accession'] != 'NC_045512.2']"
   ]
  },
  {
   "cell_type": "markdown",
   "metadata": {},
   "source": [
    "Next, we divide the timezone from the start of the pandemic into intervals of 6 months and then we assign these time period intervals to our records"
   ]
  },
  {
   "cell_type": "code",
   "execution_count": 4,
   "metadata": {},
   "outputs": [],
   "source": [
    "#Function to divide the timezome from the start of the pandemic till present into timeframes of n-months interval and then assign this information to each datapoint\n",
    "def assign_n_month_timeframe(collection_date):\n",
    "    global n\n",
    "    global has_executed\n",
    "    global timeframes\n",
    "    #To initialize the timeframes list only once\n",
    "    if not has_executed:\n",
    "        start_date = pd.Timestamp('2019-12-01')\n",
    "        end_date = pd.Timestamp(\"2024-05-26\")\n",
    "        # Initialize a list to store the timeframes\n",
    "        timeframes = []\n",
    "\n",
    "        # Start from the start_date and increment by 6 months until reaching the end_date\n",
    "        current_date = start_date\n",
    "        while current_date <= end_date:\n",
    "            next_date = current_date + pd.DateOffset(months=n)\n",
    "            timeframes.append([current_date, next_date+pd.DateOffset(days=-1)])\n",
    "            current_date = next_date\n",
    "\n",
    "        # Adjust the end date of the last interval if it exceeds the current date\n",
    "        if timeframes[-1][-1] > end_date:\n",
    "            timeframes[-1][-1] = end_date\n",
    "        has_executed = True\n",
    "    \n",
    "    collection_date=pd.Timestamp(collection_date)\n",
    "    #Assign the time frame\n",
    "    for interval in timeframes:\n",
    "        if(interval[0]<=collection_date <=interval[1]):\n",
    "            return f\"{interval[0].date()}--{interval[1].date()}\"\n",
    "    \n",
    "#n=3\n",
    "#has_executed = False\n",
    "\n",
    "#Assign time period to the records\n",
    "#all_genomes_metadata_df[f\"{n}_Month_Period\"] = all_genomes_metadata_df[\"Collection_Date\"].apply(assign_6month_timeframe)\n"
   ]
  },
  {
   "cell_type": "markdown",
   "metadata": {},
   "source": [
    "We now visualize the number of genomes that were sequenced in each of these timeframes"
   ]
  },
  {
   "cell_type": "code",
   "execution_count": 5,
   "metadata": {},
   "outputs": [],
   "source": [
    "#genome_counts_per_timeframe = all_genomes_metadata_df.groupby(f'{n}_Month_Period').size()\n",
    "#print(genome_counts_per_timeframe)\n",
    "#print(\"Total Genomes:\", genome_counts_per_timeframe.sum())"
   ]
  },
  {
   "cell_type": "markdown",
   "metadata": {},
   "source": [
    "As these distribution are inequal across the different time frames. Hence, to ensure proper representation and capture the mutation dynamics of the virus accross each of these timeframes we did random sampling of genome sequences for each of these timeperiods."
   ]
  },
  {
   "cell_type": "code",
   "execution_count": 6,
   "metadata": {},
   "outputs": [],
   "source": [
    "# Function to randomly sample genomes for each n-Month Period\n",
    "def random_sample_genomes(df, no_of_genomes_per_timeframe, period_col):\n",
    "    # Create an empty DataFrame to store the randomly sampled genomes\n",
    "    timewise_random_genomes_df = pd.DataFrame(columns=df.columns)\n",
    "    \n",
    "    # Group the data by the n-month period column\n",
    "    for timeframe, genome_set in df.groupby(period_col):\n",
    "        # If the number of genomes in the group is less than the required sample size, take all genomes\n",
    "        sample_size = min(len(genome_set), no_of_genomes_per_timeframe)\n",
    "        \n",
    "        # Randomly sample genomes from the group\n",
    "        random_genomes = genome_set.sample(n=sample_size, replace=False)  # Random state for reproducibility\n",
    "        \n",
    "        # Append the randomly sampled genomes to the result DataFrame\n",
    "        timewise_random_genomes_df = pd.concat([timewise_random_genomes_df, random_genomes], ignore_index=True)\n",
    "    \n",
    "    return timewise_random_genomes_df\n",
    "\n",
    "\n",
    "#no_of_genomes_per_timeframe=500\n",
    "#sampled_genomes_df = random_sample_genomes(all_genomes_metadata_df, no_of_genomes_per_timeframe, f'{n}_Month_Period')\n",
    "\n",
    "#genome_counts_per_timeframe = sampled_genomes_df.groupby(f'{n}_Month_Period').size()\n",
    "#print(\"Total Genomes sampled:\", genome_counts_per_timeframe.sum())\n",
    "#genome_counts_per_timeframe"
   ]
  },
  {
   "cell_type": "markdown",
   "metadata": {},
   "source": [
    "We now access the multifasta file which contains the genome sequences of all the genomes in the initial population. We then create a new multifasta file  which contains the genome sequences of the genomes that we sampled in the previous step. We also add the reference genome of the Wuhan-hu-1 strain to this file as it would be used later in the tree construction process. "
   ]
  },
  {
   "cell_type": "code",
   "execution_count": 7,
   "metadata": {},
   "outputs": [],
   "source": [
    "#We take the accessions of these samples\n",
    "#accessions = sampled_genomes_df['Accession'].tolist()\n",
    "\n",
    "#We set the referemce genome as the first in the list\n",
    "#reference_id=\"NC_045512.2\"\n",
    "#accessions = [reference_id] + accessions\n",
    "\n",
    "#Function to create the new multifasta file containing the sampled genome sequences\n",
    "def filter_fasta(input_file, output_file, sequence_ids):\n",
    "    # Open input FASTA file\n",
    "    with open(input_file, \"r\") as input_handle:\n",
    "        # Open output FASTA file\n",
    "        with open(output_file, \"w\") as output_handle:\n",
    "            # Iterate over each sequence in the input FASTA file\n",
    "            for record in SeqIO.parse(input_handle, \"fasta\"):\n",
    "                # Check if the sequence ID is in the provided list\n",
    "                if record.id in sequence_ids:\n",
    "                    # Write the sequence to the output FASTA file\n",
    "                    SeqIO.write(record, output_handle, \"fasta\")\n",
    "\n",
    "#input_file = \"../../../Future_VOC_prediction/SARS-COV-2_Genomic_data/SARS-CoV-2_1063493_genomes.fasta\"\n",
    "#output_file = f\"../SARS-CoV-2_{len(accessions)-1}+1.fasta\"\n",
    "#filter_fasta(input_file, output_file, accessions)"
   ]
  },
  {
   "cell_type": "markdown",
   "metadata": {},
   "source": [
    "Finally, we create and save the metadata file containing information about these sampled genomes"
   ]
  },
  {
   "cell_type": "code",
   "execution_count": 8,
   "metadata": {},
   "outputs": [],
   "source": [
    "#dataframe containing information regarding the sampled genomes\n",
    "#sampled_genome_metadata_df = all_genomes_metadata_df[all_genomes_metadata_df['Accession'].isin(accessions)]\n",
    "\n",
    "# Save this DataFrame as a CSV file\n",
    "#sampled_genome_metadata_df.to_csv(f\"../SARS-CoV-2_{len(accessions)-1}+1_metadata.csv\", index=False)\n"
   ]
  },
  {
   "cell_type": "code",
   "execution_count": 9,
   "metadata": {},
   "outputs": [
    {
     "name": "stdout",
     "output_type": "stream",
     "text": [
      "Sample 1\n",
      "Total Genomes sampled: 3600\n",
      "Sample 2\n",
      "Total Genomes sampled: 3600\n",
      "Sample 3\n",
      "Total Genomes sampled: 3600\n",
      "Sample 4\n",
      "Total Genomes sampled: 3600\n",
      "Sample 5\n",
      "Total Genomes sampled: 3600\n",
      "Sample 6\n",
      "Total Genomes sampled: 3600\n",
      "Sample 7\n",
      "Total Genomes sampled: 3600\n",
      "Sample 8\n",
      "Total Genomes sampled: 3600\n",
      "Sample 9\n",
      "Total Genomes sampled: 3600\n",
      "Sample 10\n",
      "Total Genomes sampled: 3600\n",
      "Sample 11\n",
      "Total Genomes sampled: 3600\n",
      "Sample 12\n",
      "Total Genomes sampled: 3600\n",
      "Sample 13\n",
      "Total Genomes sampled: 3600\n",
      "Sample 14\n",
      "Total Genomes sampled: 3600\n",
      "Sample 15\n",
      "Total Genomes sampled: 3600\n",
      "Sample 16\n",
      "Total Genomes sampled: 3600\n",
      "Sample 17\n",
      "Total Genomes sampled: 3600\n",
      "Sample 18\n",
      "Total Genomes sampled: 3600\n",
      "Sample 19\n",
      "Total Genomes sampled: 3600\n",
      "Sample 20\n",
      "Total Genomes sampled: 3600\n",
      "Sample 21\n",
      "Total Genomes sampled: 3600\n",
      "Sample 22\n",
      "Total Genomes sampled: 3600\n",
      "Sample 23\n",
      "Total Genomes sampled: 3600\n",
      "Sample 24\n",
      "Total Genomes sampled: 3600\n",
      "Sample 25\n",
      "Total Genomes sampled: 3600\n",
      "Sample 26\n",
      "Total Genomes sampled: 3600\n",
      "Sample 27\n",
      "Total Genomes sampled: 3600\n",
      "Sample 28\n",
      "Total Genomes sampled: 3600\n",
      "Sample 29\n",
      "Total Genomes sampled: 3600\n",
      "Sample 30\n",
      "Total Genomes sampled: 3600\n"
     ]
    }
   ],
   "source": [
    "\n",
    "#Number of samples needed per sample\n",
    "no_of_samples=30\n",
    "#Number of months per timeframe\n",
    "n=3\n",
    "#Number of genomes to select per timeframe\n",
    "no_of_genomes_per_timeframe=200\n",
    "#Multifasta file containing all the genomes of SARS-CoV-2\n",
    "input_file = \"../../../Future_VOC_prediction/SARS-COV-2_Genomic_data/SARS-CoV-2_1063493_genomes.fasta\"\n",
    "\n",
    "for sample_no in range(1, no_of_samples+1):\n",
    "    print(f\"Sample {sample_no}\")\n",
    "    has_executed = False\n",
    "\n",
    "    #Assign time period to the records\n",
    "    all_genomes_metadata_df[f\"{n}_Month_Period\"] = all_genomes_metadata_df[\"Collection_Date\"].apply(assign_n_month_timeframe)\n",
    "    \n",
    "    sampled_genomes_df = random_sample_genomes(all_genomes_metadata_df, no_of_genomes_per_timeframe, f'{n}_Month_Period')\n",
    "\n",
    "    genome_counts_per_timeframe = sampled_genomes_df.groupby(f'{n}_Month_Period').size()\n",
    "    print(\"Total Genomes sampled:\", genome_counts_per_timeframe.sum())\n",
    "    genome_counts_per_timeframe\n",
    "\n",
    "    # Create a directory along with any necessary intermediate directories\n",
    "    os.makedirs(f\"../Samples/Sample_{sample_no}\")\n",
    "\n",
    "\n",
    "    accessions = sampled_genomes_df['Accession'].tolist()\n",
    "\n",
    "    #We set the referemce genome as the first in the list\n",
    "    reference_id=\"NC_045512.2\"\n",
    "    accessions = [reference_id] + accessions\n",
    "    output_file = f\"../Samples/Sample_{sample_no}/SARS-CoV-2_Sample_{sample_no}_{len(accessions)-1}+1.fasta\"\n",
    "    filter_fasta(input_file, output_file, accessions)\n",
    "\n",
    "    #dataframe containing information regarding the sampled genomes\n",
    "    sampled_genome_metadata_df = all_genomes_metadata_df[all_genomes_metadata_df['Accession'].isin(accessions)]\n",
    "\n",
    "    # Save this DataFrame as a CSV file\n",
    "    sampled_genome_metadata_df.to_csv(f\"../Samples/Sample_{sample_no}/SARS-CoV-2_Sample_{sample_no}_{len(accessions)-1}+1_metadata.csv\", index=False)\n",
    "\n",
    "\n",
    "\n",
    "\n",
    "\n"
   ]
  },
  {
   "cell_type": "code",
   "execution_count": null,
   "metadata": {},
   "outputs": [],
   "source": []
  }
 ],
 "metadata": {
  "kernelspec": {
   "display_name": "base",
   "language": "python",
   "name": "python3"
  },
  "language_info": {
   "codemirror_mode": {
    "name": "ipython",
    "version": 3
   },
   "file_extension": ".py",
   "mimetype": "text/x-python",
   "name": "python",
   "nbconvert_exporter": "python",
   "pygments_lexer": "ipython3",
   "version": "3.12.4"
  }
 },
 "nbformat": 4,
 "nbformat_minor": 2
}
