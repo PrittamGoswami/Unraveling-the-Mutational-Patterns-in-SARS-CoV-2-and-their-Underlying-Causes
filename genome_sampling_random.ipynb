{
 "cells": [
  {
   "cell_type": "markdown",
   "metadata": {},
   "source": [
    "The sequence.csv file was downloaded from NCBI and it contains information regarding all the complete SARS-CoV-2 genomes downloaded from NCBI.\n",
    "We access it and remove those genomes that does not have a proper collection date."
   ]
  },
  {
   "cell_type": "code",
   "execution_count": null,
   "metadata": {},
   "outputs": [],
   "source": [
    "import pandas as pd\n",
    "from Bio import SeqIO\n",
    "import os"
   ]
  },
  {
   "cell_type": "code",
   "execution_count": null,
   "metadata": {},
   "outputs": [],
   "source": [
    "\n",
    "# Read the CSV file containing information about all the genomes\n",
    "all_genomes_metadata_df = pd.read_csv('../SARS-CoV-2_genomes_metadata.csv')\n",
    "print(\"Initial number of genomes:\", len(all_genomes_metadata_df))\n",
    "\n",
    "# Filter out data points that lacks proper collection dates\n",
    "all_genomes_metadata_df = all_genomes_metadata_df[((all_genomes_metadata_df['Collection_Date'].notna()) & \n",
    "                (all_genomes_metadata_df['Collection_Date'].str.len() >=7))]\n",
    "\n",
    "print(\"Number of genomes after filtering:\",len(all_genomes_metadata_df))"
   ]
  },
  {
   "cell_type": "code",
   "execution_count": null,
   "metadata": {},
   "outputs": [],
   "source": [
    "all_genomes_metadata_df"
   ]
  },
  {
   "cell_type": "code",
   "execution_count": null,
   "metadata": {},
   "outputs": [],
   "source": [
    "print(\"The first collection date:\"+min(all_genomes_metadata_df[\"Collection_Date\"]))\n",
    "print(\"The most recent collection date:\"+max(all_genomes_metadata_df[\"Collection_Date\"]))"
   ]
  },
  {
   "cell_type": "markdown",
   "metadata": {},
   "source": [
    "We now sort the dataframe based on the collection dates of the genomes and remove the referece genome from the sampling population as we are going to explicitly add it later and use it as the outgroup for the tree construction"
   ]
  },
  {
   "cell_type": "code",
   "execution_count": null,
   "metadata": {},
   "outputs": [],
   "source": [
    "# Sort the DataFrame by their Collection Date\n",
    "all_genomes_metadata_df = all_genomes_metadata_df.sort_values('Collection_Date')\n",
    "\n",
    "# Drop the row where 'Accession' is 'NC_045512.2' which is the reference genome\n",
    "all_genomes_metadata_df = all_genomes_metadata_df[all_genomes_metadata_df['Accession'] != 'NC_045512.2']"
   ]
  },
  {
   "cell_type": "markdown",
   "metadata": {},
   "source": [
    "Next, we divide the timezone from the start of the pandemic into 20 timeframes of 3 months each and then we assign these time frames to our records"
   ]
  },
  {
   "cell_type": "code",
   "execution_count": null,
   "metadata": {},
   "outputs": [],
   "source": [
    "# Function to divide the timezome from the start of the pandemic till present into timeframes of n-months interval and then assign this information to each datapoint\n",
    "def assign_n_month_timeframe(collection_date):\n",
    "    \"\"\"\n",
    "    Returns the corresponding timeframes to a Collection date in the metadata dataframe\n",
    "    \n",
    "    Parameters: \n",
    "        - collection_date (str) : The collection date of the genome sequence\n",
    "\n",
    "    Returns:\n",
    "        - str: the corresponding timeframe within which the collection date falls\n",
    "    \"\"\"\n",
    "    global n\n",
    "    global has_executed\n",
    "    global timeframes\n",
    "    #To initialize the timeframes list only once\n",
    "    if not has_executed:\n",
    "        start_date = pd.Timestamp('2019-12-01')\n",
    "        end_date = pd.Timestamp(\"2024-11-30\")\n",
    "        # Initialize a list to store the timeframes\n",
    "        timeframes = []\n",
    "\n",
    "        # Start from the start_date and increment by n months until reaching the end_date\n",
    "        current_date = start_date\n",
    "        while current_date <= end_date:\n",
    "            next_date = current_date + pd.DateOffset(months=n)\n",
    "            timeframes.append([current_date, next_date+pd.DateOffset(days=-1)])\n",
    "            current_date = next_date\n",
    "\n",
    "        # Adjust the end date of the last interval if it exceeds the end date\n",
    "        if timeframes[-1][-1] > end_date:\n",
    "            timeframes[-1][-1] = end_date\n",
    "        has_executed = True\n",
    "    \n",
    "    collection_date=pd.Timestamp(collection_date)\n",
    "    # Assign the time frame\n",
    "    for interval in timeframes:\n",
    "        if(interval[0]<=collection_date <=interval[1]):\n",
    "            return f\"{interval[0].date()}--{interval[1].date()}\"\n",
    "    \n",
    "n=3\n",
    "has_executed = False\n",
    "\n",
    "# Assign time period to the records\n",
    "all_genomes_metadata_df[f\"{n}_Month_Period\"] = all_genomes_metadata_df[\"Collection_Date\"].apply(assign_n_month_timeframe)\n",
    "\n",
    "# Save this filtered metadata for later use\n",
    "all_genomes_metadata_df.to_csv('../SARS-CoV-2_genomes_metadata_filtered.csv', index=False)\n",
    "\n"
   ]
  },
  {
   "cell_type": "markdown",
   "metadata": {},
   "source": [
    "We now visualize the number of genomes that were sequenced in each of these timeframes"
   ]
  },
  {
   "cell_type": "code",
   "execution_count": null,
   "metadata": {},
   "outputs": [],
   "source": [
    "genome_counts_per_timeframe = all_genomes_metadata_df.groupby(f'{n}_Month_Period').size()\n",
    "print(genome_counts_per_timeframe)\n",
    "print(\"Total Genomes:\", genome_counts_per_timeframe.sum())"
   ]
  },
  {
   "cell_type": "markdown",
   "metadata": {},
   "source": [
    "As these distribution are inequal across the different time frames. Hence, to ensure proper representation and capture the mutation dynamics of the virus accross each of these timeframes we did random sampling of genome sequences for each of these timeperiods."
   ]
  },
  {
   "cell_type": "code",
   "execution_count": null,
   "metadata": {},
   "outputs": [],
   "source": [
    "# Function to randomly sample genomes for each n-Month Period\n",
    "def random_sample_genomes(df, no_of_genomes_per_timeframe, timeframe_col):\n",
    "    \"\"\"\n",
    "    Create the Sample Genome sets by randomly sampling a particular number of genomes within each timeframe.\n",
    "\n",
    "    Parameters:\n",
    "        - df (pandas dataframe): The dataframe contaning information about all the genomes from which to sample.\n",
    "        - no_of_genomes_per_timeframe (int): Number of genomes to sample from each timeframe.\n",
    "        - timeframe_col (str): The column in the dataframe contatining the assigned timeframes.  \n",
    "\n",
    "    Returns:\n",
    "        - timewise_random_genomes_df (pandas dataframe): Contains information about the sampled genomeset.\n",
    "    \"\"\"\n",
    "    # Create an empty DataFrame to store the randomly sampled genomes\n",
    "    timewise_random_genomes_df = pd.DataFrame(columns=df.columns)\n",
    "    \n",
    "    # Group the data by the n-month period column\n",
    "    for timeframe, genome_set in df.groupby(timeframe_col):\n",
    "        # If the number of genomes in the group is less than the required sample size, take all genomes\n",
    "        sample_size = min(len(genome_set), no_of_genomes_per_timeframe)\n",
    "        \n",
    "        # Randomly sample genomes from the group\n",
    "        random_genomes = genome_set.sample(n=sample_size, replace=False)  \n",
    "        \n",
    "        # Append the randomly sampled genomes to the result DataFrame\n",
    "        timewise_random_genomes_df = pd.concat([timewise_random_genomes_df, random_genomes], ignore_index=True)\n",
    "    \n",
    "    return timewise_random_genomes_df\n",
    "\n",
    "\n"
   ]
  },
  {
   "cell_type": "markdown",
   "metadata": {},
   "source": [
    "We now access the multifasta file which contains the genome sequences of all the genomes in the initial population. We then create a new multifasta file  which contains the genome sequences of the genomes that we sampled. We also add the reference genome of the Wuhan-hu-1 strain to this file as it would be used later in the tree construction process. "
   ]
  },
  {
   "cell_type": "code",
   "execution_count": null,
   "metadata": {},
   "outputs": [],
   "source": [
    "\n",
    "#Function to create the new multifasta file containing the sampled genome sequences\n",
    "def filter_fasta(input_file, output_file, sequence_ids):\n",
    "    \"\"\"\n",
    "    Writes a new multi-fasta file from the original multi-fasta file containing a list of desired sequences.\n",
    "    \n",
    "    Parameters:\n",
    "        - input_file (str): Path to the initial multi-fasta file to subset from.\n",
    "        - output_file (str): Path to the new multi-fasta file.\n",
    "        - sequence_ids (list): the list of sequences to subset.\n",
    "        \n",
    "    \"\"\"\n",
    "    # Open input FASTA file\n",
    "    with open(input_file, \"r\") as input_handle:\n",
    "        # Open output FASTA file\n",
    "        with open(output_file, \"w\") as output_handle:\n",
    "            # Iterate over each sequence in the input FASTA file\n",
    "            for record in SeqIO.parse(input_handle, \"fasta\"):\n",
    "                # Check if the sequence ID is in the provided list\n",
    "                if record.id in sequence_ids:\n",
    "                    # Write the sequence to the output FASTA file\n",
    "                    SeqIO.write(record, output_handle, \"fasta\")\n",
    "\n"
   ]
  },
  {
   "cell_type": "markdown",
   "metadata": {},
   "source": [
    "Finally, we create and save 30 sample genomesets, each containing randomly sampled genomes from each of the 20 timeframes along with the associated metadata"
   ]
  },
  {
   "cell_type": "code",
   "execution_count": null,
   "metadata": {},
   "outputs": [],
   "source": [
    "\n",
    "# Number of samples needed per sample\n",
    "no_of_samples=30\n",
    "# Number of months per timeframe\n",
    "n=3\n",
    "# Number of genomes to sample per timeframe\n",
    "no_of_genomes_per_timeframe=200\n",
    "\n",
    "# Multifasta file containing all the genomes of SARS-CoV-2\n",
    "input_file = \"../SARS-CoV-2_genomes.fasta\"\n",
    "\n",
    "# We iterate through the number of samples we want to create\n",
    "for sample_no in range(1, no_of_samples+1):\n",
    "    \n",
    "    # Flag to prevent the assign_n_month_timeframe from generating the same timeframe list to assign from, multiple times\n",
    "    has_executed = False\n",
    "\n",
    "    # Assign time period to the records\n",
    "    all_genomes_metadata_df[f\"{n}_Month_Period\"] = all_genomes_metadata_df[\"Collection_Date\"].apply(assign_n_month_timeframe)\n",
    "    \n",
    "    # Create a new sampled dataframe by sampling all the dataframe containing information on all the genomes\n",
    "    sampled_genomes_df = random_sample_genomes(all_genomes_metadata_df, no_of_genomes_per_timeframe, f'{n}_Month_Period')\n",
    "\n",
    "    # Create a directory along with any necessary intermediate directories to write the files to\n",
    "    os.makedirs(f\"../Samples/Sample_{sample_no}\")\n",
    "\n",
    "    # Extract the sequence ids of the genomes in this sampled dataframe\n",
    "    accessions = sampled_genomes_df['Accession'].tolist()\n",
    "\n",
    "    # We set the reference genome as the first in the list to add this sequence as the topmost sequence in the multifasta\n",
    "    reference_id=\"NC_045512.2\"\n",
    "    accessions = [reference_id] + accessions\n",
    "    \n",
    "    # Generate the path to the output file\n",
    "    output_file = f\"../Samples/Sample_{sample_no}/SARS-CoV-2_Sample_{sample_no}_{len(accessions)-1}+1.fasta\"\n",
    "    \n",
    "    # Write the multifasta file containing the sampled genomes\n",
    "    filter_fasta(input_file, output_file, accessions)\n",
    "    \n",
    "    # Write the dataframe containing information about this sample a csv file \n",
    "    sampled_genomes_df.to_csv(f\"../Samples/Sample_{sample_no}/SARS-CoV-2_Sample_{sample_no}_{len(accessions)-1}+1_metadata.csv\", index=False)\n",
    "\n",
    "    #print completion message\n",
    "    print(f\"Sample {sample_no} Generated Successfully\")\n",
    "\n",
    "\n",
    "\n",
    "\n"
   ]
  },
  {
   "cell_type": "code",
   "execution_count": null,
   "metadata": {},
   "outputs": [],
   "source": []
  }
 ],
 "metadata": {
  "kernelspec": {
   "display_name": "base",
   "language": "python",
   "name": "python3"
  },
  "language_info": {
   "codemirror_mode": {
    "name": "ipython",
    "version": 3
   },
   "file_extension": ".py",
   "mimetype": "text/x-python",
   "name": "python",
   "nbconvert_exporter": "python",
   "pygments_lexer": "ipython3",
   "version": "3.12.4"
  }
 },
 "nbformat": 4,
 "nbformat_minor": 2
}
